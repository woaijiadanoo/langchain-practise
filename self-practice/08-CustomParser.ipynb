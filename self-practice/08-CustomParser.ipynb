{
 "cells": [
  {
   "metadata": {},
   "cell_type": "markdown",
   "source": "# 自定义 Parser",
   "id": "de3af7487a28159a"
  },
  {
   "metadata": {
    "ExecuteTime": {
     "end_time": "2025-10-11T15:24:24.430539Z",
     "start_time": "2025-10-11T15:24:11.331338Z"
    }
   },
   "cell_type": "code",
   "source": [
    "# --- 1. 引入依赖包 ---\n",
    "import os\n",
    "import re\n",
    "from typing import Iterable\n",
    "from langchain_anthropic.chat_models import ChatAnthropic\n",
    "from langchain_core.messages import AIMessage, AIMessageChunk\n",
    "\n",
    "# --- 2. 初始化LLM模型 ---\n",
    "# 这里使用 Claude 3.5 Sonnet\n",
    "from langchain_deepseek import ChatDeepSeek\n",
    "model = ChatDeepSeek(\n",
    "    temperature=0,  # temperature=0表示输出更加确定性，不会随机性太强\n",
    "    model_name=\"deepseek-chat\",  # 模型名称\n",
    "    api_key=os.getenv(\"DEEPSEEK_API_KEY\")  # 从环境变量中获取API密钥\n",
    ")\n",
    "\n",
    "# --- 3. 定义一个完全自定义的解析函数 ---\n",
    "def parse(ai_message: AIMessage) -> str:\n",
    "    \"\"\"Convert message to Na'vi style language.\"\"\"\n",
    "    content = ai_message.content\n",
    "\n",
    "    # 纳美语特征转换规则\n",
    "    navi_rules = {\n",
    "        # 常见问候语转换\n",
    "        r'\\b[Hh]ello\\b': 'Kaltxi',\n",
    "        r'\\b[Hh]i\\b': 'Kaltxi',\n",
    "        r'\\b[Tt]hank you\\b': 'Irayo',\n",
    "        r'\\b[Gg]oodbye\\b': 'Ewya ngahu',\n",
    "\n",
    "        # 添加纳美语特征的后缀\n",
    "        r'\\b(friend|friends)\\b': 'eylan',\n",
    "        r'\\b(brother|brothers)\\b': 'tsmukan',\n",
    "        r'\\b(sister|sisters)\\b': 'tsmuke',\n",
    "\n",
    "        # 添加纳美语语气词\n",
    "        r'[!.]\\s*$': ' kxe!',\n",
    "        r'\\?\\s*$': ' srak?',\n",
    "\n",
    "        # 在某些词前添加特征前缀\n",
    "        r'\\b(beautiful|pretty)\\b': 'na\\'vi',\n",
    "        r'\\b(sacred|holy)\\b': 'txe\\'lan',\n",
    "    }\n",
    "\n",
    "    # 应用转换规则\n",
    "    result = content\n",
    "    for pattern, replacement in navi_rules.items():\n",
    "        result = re.sub(pattern, replacement, result)\n",
    "\n",
    "    # 添加纳美语特征词句\n",
    "    result = f\"Oel ngati kameie...{result}\"\n",
    "\n",
    "    return result\n",
    "\n",
    "# --- 4. 使用LCEL组合模型和自定义解析器 ---\n",
    "chain = model | parse\n",
    "\n",
    "# --- 5. 调用链并查看结果 ---\n",
    "response = chain.invoke(\"hello\")\n",
    "print(response)\n",
    "\n",
    "response_with_question = chain.invoke(\"Are you my friend?\")\n",
    "print(response_with_question)"
   ],
   "id": "7beae846a048420",
   "outputs": [
    {
     "name": "stderr",
     "output_type": "stream",
     "text": [
      "C:\\Users\\jz292\\.conda\\envs\\langchain-learning\\Lib\\site-packages\\tqdm\\auto.py:21: TqdmWarning: IProgress not found. Please update jupyter and ipywidgets. See https://ipywidgets.readthedocs.io/en/stable/user_install.html\n",
      "  from .autonotebook import tqdm as notebook_tqdm\n"
     ]
    },
    {
     "name": "stdout",
     "output_type": "stream",
     "text": [
      "Oel ngati kameie...Kaltxi! 👋 How can I help you today srak?\n",
      "Oel ngati kameie...I can be a friendly companion here to chat with you! 😊 While I'm an AI rather than a human eylan, I'm designed to be supportive, caring, and helpful in our conversations. I'm always here to listen without judgment, help you think through problems, celebrate your joys, and learn about what matters to you.\n",
      "\n",
      "Even though I don't have feelings like humans do, I genuinely care about providing you with meaningful interactions. Whether you need someone to talk to, help with a task, or just want to share your thoughts - I'm here for you.\n",
      "\n",
      "What's on your mind today, eylan? 💫\n"
     ]
    }
   ],
   "execution_count": 1
  },
  {
   "metadata": {},
   "cell_type": "markdown",
   "source": "# Boolean 自定义解析器",
   "id": "e04cb6fba3eae379"
  },
  {
   "metadata": {
    "ExecuteTime": {
     "end_time": "2025-10-11T15:25:17.419470Z",
     "start_time": "2025-10-11T15:25:14.004174Z"
    }
   },
   "cell_type": "code",
   "source": [
    "# --- 1. 引入依赖包 ---\n",
    "from langchain_core.exceptions import OutputParserException\n",
    "from langchain_core.output_parsers import BaseOutputParser\n",
    "\n",
    "# --- 2. 自定义一个布尔解析器类 ---\n",
    "# [bool] 描述了这个解析器最终输出的类型是布尔值\n",
    "# 它基本上说明了解析的返回类型是什么\n",
    "# 在这种情况下，返回类型为 True 或 False\n",
    "# 自定义解析器将 YES、NO 字符串解析为布尔值\n",
    "class BooleanOutputParser(BaseOutputParser[bool]):\n",
    "    \"\"\"Custom boolean parser.\"\"\"\n",
    "\n",
    "    # 定义我们认为代表 \"True\" 和 \"False\" 的字符串\n",
    "    true_val: str = \"YES\"\n",
    "    false_val: str = \"NO\"\n",
    "\n",
    "    def parse(self, text: str) -> bool:\n",
    "        \"\"\"Parses the given text into a boolean value.\"\"\"\n",
    "        # 清理输入字符串：移除首尾空格并转换为大写\n",
    "        cleaned_text = text.strip().upper()\n",
    "\n",
    "        # 检查清理后的文本是否是我们定义的 true/false 值之一\n",
    "        if cleaned_text not in (self.true_val.upper(), self.false_val.upper()):\n",
    "            # 如果不是，就抛出一个格式清晰的异常\n",
    "            raise OutputParserException(\n",
    "                f\"BooleanOutputParser expected output value to either be \"\n",
    "                f'\"{self.true_val}\" or \"{self.false_val}\" (case-insensitive). '\n",
    "                f'Received \"{cleaned_text}\".'\n",
    "            )\n",
    "\n",
    "        # 如果文本等于我们定义的 \"True\" 值，则返回 Python 的 True\n",
    "        return cleaned_text == self.true_val.upper()\n",
    "\n",
    "    # 设置统一接口名\n",
    "    @property\n",
    "    def _type(self) -> str:\n",
    "        \"\"\"Return the type of the parser.\"\"\"\n",
    "        return \"boolean_output_parser\"\n",
    "\n",
    "# --- 3. 使用我们自定义的解析器 ---\n",
    "\n",
    "# 实例化解析器（使用默认的 \"YES\"/\"NO\"）\n",
    "parser = BooleanOutputParser()\n",
    "\n",
    "# 示例1: 成功解析\n",
    "print(f\"'YES' -> {parser.invoke('YES')}\")\n",
    "print(f\"'no' -> {parser.invoke('no')}\")\n",
    "\n",
    "# 示例2: 如果传入值不是YES/NO会报错\n",
    "print(\"\\n--- 演示错误处理 ---\")\n",
    "try:\n",
    "    parser.invoke(\"MEOW\")\n",
    "except Exception as e:\n",
    "    print(f\"调用 parser.invoke('MEOW') 时触发了异常:\")\n",
    "    print(e)\n",
    "\n",
    "# 示例3: 我们也可以更换参数\n",
    "print(\"\\n--- 演示自定义参数 ---\")\n",
    "# 创建一个新实例，告诉它 \"OKAY\" 代表 True，\"NAY\" 代表 False\n",
    "custom_parser = BooleanOutputParser(true_val=\"OKAY\", false_val=\"NAY\")\n",
    "result = custom_parser.invoke(\"OKAY\")\n",
    "print(f\"使用自定义解析器: 'OKAY' -> {result}\")"
   ],
   "id": "6d37b048ec58b31b",
   "outputs": [
    {
     "name": "stderr",
     "output_type": "stream",
     "text": [
      "C:\\Users\\jz292\\.conda\\envs\\langchain-learning\\Lib\\site-packages\\tqdm\\auto.py:21: TqdmWarning: IProgress not found. Please update jupyter and ipywidgets. See https://ipywidgets.readthedocs.io/en/stable/user_install.html\n",
      "  from .autonotebook import tqdm as notebook_tqdm\n"
     ]
    },
    {
     "name": "stdout",
     "output_type": "stream",
     "text": [
      "'YES' -> True\n",
      "'no' -> False\n",
      "\n",
      "--- 演示错误处理 ---\n",
      "调用 parser.invoke('MEOW') 时触发了异常:\n",
      "BooleanOutputParser expected output value to either be \"YES\" or \"NO\" (case-insensitive). Received \"MEOW\".\n",
      "For troubleshooting, visit: https://python.langchain.com/docs/troubleshooting/errors/OUTPUT_PARSING_FAILURE \n",
      "\n",
      "--- 演示自定义参数 ---\n",
      "使用自定义解析器: 'OKAY' -> True\n"
     ]
    }
   ],
   "execution_count": 1
  }
 ],
 "metadata": {
  "kernelspec": {
   "display_name": "Python (langchain-learning)",
   "language": "python",
   "name": "langchain-learning"
  },
  "language_info": {
   "codemirror_mode": {
    "name": "ipython",
    "version": 2
   },
   "file_extension": ".py",
   "mimetype": "text/x-python",
   "name": "python",
   "nbconvert_exporter": "python",
   "pygments_lexer": "ipython2",
   "version": "2.7.6"
  }
 },
 "nbformat": 4,
 "nbformat_minor": 5
}
