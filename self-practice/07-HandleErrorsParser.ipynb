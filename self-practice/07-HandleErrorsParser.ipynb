{
 "cells": [
  {
   "metadata": {},
   "cell_type": "raw",
   "source": [
    "# 异常错误处理\n",
    "- 重试\n",
    "- 修复\n"
   ],
   "id": "ce77f23f30120b23"
  },
  {
   "metadata": {},
   "cell_type": "markdown",
   "source": [
    "# 异常错误处理\n",
    "- 重试\n",
    "- 修复"
   ],
   "id": "30090caf0f8f0bce"
  },
  {
   "metadata": {},
   "cell_type": "markdown",
   "source": "# 重试 (RetryOutputParser)",
   "id": "df3250fc6e256208"
  },
  {
   "metadata": {
    "ExecuteTime": {
     "end_time": "2025-10-11T15:14:54.030308Z",
     "start_time": "2025-10-11T15:14:39.098046Z"
    }
   },
   "cell_type": "code",
   "source": [
    "# --- 1. 引入依赖包 ---\n",
    "import os\n",
    "from langchain.output_parsers import RetryOutputParser\n",
    "from langchain_core.exceptions import OutputParserException\n",
    "from langchain_core.output_parsers import PydanticOutputParser\n",
    "from langchain_core.prompts import PromptTemplate\n",
    "from langchain_openai import ChatOpenAI\n",
    "from pydantic import BaseModel, Field\n",
    "\n",
    "# --- 2. 定义我们期望的数据结构 ---\n",
    "# 这里我们期望LLM返回一个包含 \"action\" 和 \"action_input\" 的指令\n",
    "class Action(BaseModel):\n",
    "    action: str = Field(description=\"action to take\")\n",
    "    action_input: str = Field(description=\"input to the action\")\n",
    "\n",
    "# --- 3. 实例化一个标准的Pydantic解析器 ---\n",
    "parser = PydanticOutputParser(pydantic_object=Action)\n",
    "\n",
    "# --- 4. 定义提示词模板 ---\n",
    "# 这个模板指导LLM如何根据用户问题提供Action\n",
    "prompt = PromptTemplate(\n",
    "    template=\"Answer the user query.\\n{format_instructions}\\n{query}\\n\",\n",
    "    input_variables=[\"query\"],\n",
    "    partial_variables={\"format_instructions\": parser.get_format_instructions()},\n",
    ")\n",
    "\n",
    "# --- 5. 模拟一个失败的场景 ---\n",
    "\n",
    "# 假设用户的原始问题是 \"北京今天天气如何？\"\n",
    "# 我们先用模板生成完整的提示内容\n",
    "prompt_value = prompt.format_prompt(query=\"北京今天天气如何？\")\n",
    "\n",
    "# 假设LLM返回了一个格式错误的回答\n",
    "# 这个回答只包含了 action，缺少了 action_input，不符合 Action 模型的要求\n",
    "bad_response = '{\"action\": \"search\"}'\n",
    "\n",
    "# 我们尝试用标准解析器来解析这个错误回答，它会失败并抛出异常\n",
    "print(\"--- 演示标准解析器的失败 ---\")\n",
    "try:\n",
    "    parser.parse(bad_response)\n",
    "except OutputParserException as e:\n",
    "    print(\"解析失败，错误信息:\")\n",
    "    print(e) # 打印出的错误会提示 action_input 字段缺失\n",
    "\n",
    "# --- 6. 使用 RetryOutputParser 实现错误重试 ---\n",
    "\n",
    "# 首先，定义一个用于重试和修正错误的LLM\n",
    "import os\n",
    "from langchain_deepseek import ChatDeepSeek\n",
    "llm = ChatDeepSeek(\n",
    "    temperature=0,  # temperature=0表示输出更加确定性，不会随机性太强\n",
    "    model_name=\"deepseek-chat\",  # 模型名称\n",
    "    api_key=os.getenv(\"DEEPSEEK_API_KEY\")  # 从环境变量中获取API密钥\n",
    ")\n",
    "\n",
    "# 定义一个重试解析器\n",
    "# 它需要一个LLM来进行修正，以及一个原始的解析器来指明修正目标\n",
    "retry_parser = RetryOutputParser.from_llm(llm=llm, parser=parser)\n",
    "\n",
    "# 传入错误的回答以及原始的提示值，让它来尝试修正并解析\n",
    "print(\"\\n--- 使用 RetryOutputParser 自动修正 ---\")\n",
    "parsed_response = retry_parser.parse_with_prompt(bad_response, prompt_value)\n",
    "\n",
    "print(\"修正并解析成功！结果是：\")\n",
    "print(parsed_response)\n",
    "print(\"\\n现在可以像对象一样访问字段了：\")\n",
    "print(\"Action:\", parsed_response.action)\n",
    "print(\"Action Input:\", parsed_response.action_input)"
   ],
   "id": "bf49f0b51de8ed80",
   "outputs": [
    {
     "name": "stderr",
     "output_type": "stream",
     "text": [
      "C:\\Users\\jz292\\.conda\\envs\\langchain-learning\\Lib\\site-packages\\tqdm\\auto.py:21: TqdmWarning: IProgress not found. Please update jupyter and ipywidgets. See https://ipywidgets.readthedocs.io/en/stable/user_install.html\n",
      "  from .autonotebook import tqdm as notebook_tqdm\n"
     ]
    },
    {
     "name": "stdout",
     "output_type": "stream",
     "text": [
      "--- 演示标准解析器的失败 ---\n",
      "解析失败，错误信息:\n",
      "Failed to parse Action from completion {\"action\": \"search\"}. Got: 1 validation error for Action\n",
      "action_input\n",
      "  Field required [type=missing, input_value={'action': 'search'}, input_type=dict]\n",
      "    For further information visit https://errors.pydantic.dev/2.11/v/missing\n",
      "For troubleshooting, visit: https://python.langchain.com/docs/troubleshooting/errors/OUTPUT_PARSING_FAILURE \n",
      "\n",
      "--- 使用 RetryOutputParser 自动修正 ---\n",
      "修正并解析成功！结果是：\n",
      "action='weather_query' action_input='北京'\n",
      "\n",
      "现在可以像对象一样访问字段了：\n",
      "Action: weather_query\n",
      "Action Input: 北京\n"
     ]
    }
   ],
   "execution_count": 1
  },
  {
   "metadata": {},
   "cell_type": "markdown",
   "source": "# 错误修复",
   "id": "3fb1562403510b46"
  },
  {
   "metadata": {
    "ExecuteTime": {
     "end_time": "2025-10-11T15:17:36.615830Z",
     "start_time": "2025-10-11T15:17:31.580225Z"
    }
   },
   "cell_type": "code",
   "source": [
    "# --- 1. 引入依赖包 ---\n",
    "import os\n",
    "from langchain.output_parsers import OutputFixingParser\n",
    "from typing import List\n",
    "from langchain_core.exceptions import OutputParserException\n",
    "from langchain_core.output_parsers import PydanticOutputParser\n",
    "from langchain_openai import ChatOpenAI\n",
    "from pydantic import BaseModel, Field\n",
    "\n",
    "# --- 2. 定义一个演员模型，有两个字段 ---\n",
    "class Actor(BaseModel):\n",
    "    name: str = Field(description=\"name of an actor\")\n",
    "    film_names: List[str] = Field(description=\"list of names of films they starred in\")\n",
    "\n",
    "# --- 3. 实例化一个标准的Pydantic解析器 ---\n",
    "parser = PydanticOutputParser(pydantic_object=Actor)\n",
    "\n",
    "# --- 4. 模拟一个失败的场景 ---\n",
    "\n",
    "# 假设LLM返回了一个格式错误的字符串\n",
    "# 这里的 'film_names' 后面多了一个不匹配的 ']'，导致它不是一个有效的JSON\n",
    "misformatted = \"{'name': 'Tom Hanks', 'film_names': ['Forrest Gump']]}\"\n",
    "\n",
    "# 尝试用标准解析器解析，会失败并抛出错误\n",
    "print(\"--- 演示标准解析器的失败 ---\")\n",
    "try:\n",
    "    parser.parse(misformatted)\n",
    "except OutputParserException as e:\n",
    "    print(\"解析失败，错误信息:\")\n",
    "    print(e)\n",
    "\n",
    "# --- 5. 使用 OutputFixingParser 进行错误修复 ---\n",
    "\n",
    "# 定义一个可以修复错误的LLM\n",
    "# 注意：你需要设置你的OpenAI API密钥\n",
    "from langchain_deepseek import ChatDeepSeek\n",
    "llm = ChatDeepSeek(\n",
    "    temperature=0,  # temperature=0表示输出更加确定性，不会随机性太强\n",
    "    model_name=\"deepseek-chat\",  # 模型名称\n",
    "    api_key=os.getenv(\"DEEPSEEK_API_KEY\")  # 从环境变量中获取API密钥\n",
    ")\n",
    "\n",
    "# 定义一个输出修复解析器 (OutputFixingParser)\n",
    "# 它需要一个LLM来进行修复，以及一个原始的解析器来指明修复目标\n",
    "new_parser = OutputFixingParser.from_llm(parser=parser, llm=llm)\n",
    "\n",
    "# 传入错误的信息，让它来尝试修复并解析\n",
    "print(\"\\n--- 使用 OutputFixingParser 自动修复 ---\")\n",
    "result = new_parser.parse(misformatted)\n",
    "\n",
    "print(\"修复并解析成功！结果是：\")\n",
    "print(result)\n",
    "\n",
    "print(\"\\n现在可以像对象一样访问字段了：\")\n",
    "print(\"Name:\", result.name)\n",
    "print(\"Film Names:\", result.film_names)"
   ],
   "id": "b1afa13cee664374",
   "outputs": [
    {
     "name": "stdout",
     "output_type": "stream",
     "text": [
      "--- 演示标准解析器的失败 ---\n",
      "解析失败，错误信息:\n",
      "Failed to parse Actor from completion null. Got: 1 validation error for Actor\n",
      "  Input should be a valid dictionary or instance of Actor [type=model_type, input_value=None, input_type=NoneType]\n",
      "    For further information visit https://errors.pydantic.dev/2.11/v/model_type\n",
      "For troubleshooting, visit: https://python.langchain.com/docs/troubleshooting/errors/OUTPUT_PARSING_FAILURE \n",
      "\n",
      "--- 使用 OutputFixingParser 自动修复 ---\n",
      "修复并解析成功！结果是：\n",
      "name='Tom Hanks' film_names=['Forrest Gump', 'Saving Private Ryan', 'Cast Away']\n",
      "\n",
      "现在可以像对象一样访问字段了：\n",
      "Name: Tom Hanks\n",
      "Film Names: ['Forrest Gump', 'Saving Private Ryan', 'Cast Away']\n"
     ]
    }
   ],
   "execution_count": 2
  }
 ],
 "metadata": {
  "kernelspec": {
   "display_name": "Python (langchain-learning)",
   "language": "python",
   "name": "langchain-learning"
  },
  "language_info": {
   "codemirror_mode": {
    "name": "ipython",
    "version": 2
   },
   "file_extension": ".py",
   "mimetype": "text/x-python",
   "name": "python",
   "nbconvert_exporter": "python",
   "pygments_lexer": "ipython2",
   "version": "2.7.6"
  }
 },
 "nbformat": 4,
 "nbformat_minor": 5
}
