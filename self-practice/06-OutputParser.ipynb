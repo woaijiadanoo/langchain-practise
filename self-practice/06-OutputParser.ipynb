{
 "cells": [
  {
   "metadata": {},
   "cell_type": "markdown",
   "source": "# OutputParser 练习",
   "id": "7337d9ba911c36af"
  },
  {
   "metadata": {},
   "cell_type": "code",
   "outputs": [],
   "execution_count": null,
   "source": [
    "# 导入所需的库\n",
    "import os\n",
    "from langchain_anthropic import ChatAnthropic\n",
    "from langchain_core.tools import tool\n",
    "from langchain_core.output_parsers import StrOutputParser\n",
    "\n",
    "# --- 1. 定义LLM模型 ---\n",
    "# 这里我们使用Claude 3.5 Sonnet模型\n",
    "# 注意：你需要先设置你的API密钥和可能的访问地址作为环境变量\n",
    "model = ChatAnthropic(\n",
    "    model='claude-3-5-sonnet-latest',\n",
    "    api_key=os.environ.get(\"ANTHROPIC_API_KEY\"),\n",
    "    base_url=os.environ.get(\"ANTHROPIC_BASE_URL\"),\n",
    ")\n",
    "\n",
    "# --- 2. 定义一个工具 ---\n",
    "# @tool装饰器可以将一个Python函数快速转换为Langchain可以使用的工具\n",
    "@tool\n",
    "def get_weather(location: str) -> str:\n",
    "    \"\"\"根据地名返回当地实时天气。\"\"\"\n",
    "    # 这是一个示例工具，为了演示，它总是返回相同的结果\n",
    "    return \"天气晴朗22度\"\n",
    "\n",
    "# --- 3. 将工具绑定到LLM ---\n",
    "# .bind_tools()方法让模型“知道”它可以使用这个工具\n",
    "llm_with_tools = model.bind_tools([get_weather])\n",
    "\n",
    "# --- 4. 构造一个链 (Chain) ---\n",
    "# 使用管道符“|”将模型和输出解析器连接起来\n",
    "# StrOutputParser可以简化输出，直接提取文本内容\n",
    "chain = llm_with_tools | StrOutputParser()\n",
    "\n",
    "# --- 5. 调用链并执行 ---\n",
    "# .invoke()方法是运行一个链的标准方式\n",
    "response = chain.invoke(\"北京市今天的天气如何？\")\n",
    "\n",
    "# --- 6. 打印结果 ---\n",
    "print(response)"
   ],
   "id": "1d0f905f5aa75682"
  }
 ],
 "metadata": {
  "kernelspec": {
   "display_name": "Python (langchain-practise)",
   "language": "python",
   "name": "langchain-practise"
  },
  "language_info": {
   "codemirror_mode": {
    "name": "ipython",
    "version": 2
   },
   "file_extension": ".py",
   "mimetype": "text/x-python",
   "name": "python",
   "nbconvert_exporter": "python",
   "pygments_lexer": "ipython2",
   "version": "2.7.6"
  }
 },
 "nbformat": 4,
 "nbformat_minor": 5
}
