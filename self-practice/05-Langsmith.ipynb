{
 "cells": [
  {
   "metadata": {},
   "cell_type": "markdown",
   "source": [
    "- 1. 使用 LangSmith 来管理提示词\n",
    "    - 创建提示词并上传到 langsmith\n",
    "    - 团队迭代提示词\n",
    "- 2. 从 hub 上加载提示词\n",
    "    - 导入环境变量\n",
    "    - 从 LangChain Hub 库拉取\n",
    "- 3. 远程获取自己的提示词并使用 deepseek 测试"
   ],
   "id": "b07cb3fa01c42f68"
  },
  {
   "metadata": {},
   "cell_type": "markdown",
   "source": [
    "# 1. 使用 LangSmith 来管理提示词\n",
    "- 创建提示词并上传到 langsmith"
   ],
   "id": "fb1f57810331a273"
  },
  {
   "cell_type": "code",
   "execution_count": null,
   "id": "initial_id",
   "metadata": {
    "collapsed": true
   },
   "outputs": [],
   "source": [
    "from langsmith import Client\n",
    "from langchain_core.prompts import ChatPromptTemplate\n",
    "\n",
    "client = Client()\n",
    "\n",
    "# Define the prompt\n",
    "prompt = ChatPromptTemplate.from_messages(\n",
    "    [\n",
    "        (\"system\", \"You are a helpful chatbot.\"),\n",
    "        (\"user\", \"{question}\"),\n",
    "    ]\n",
    ")\n",
    "\n",
    "# Push the prompt\n",
    "client.push_prompt(\"test-prompt\", object=prompt)\n",
    "\n",
    "# 'https://smith.langchain.com/prompts/test-prompt/e54372ff-b67f-4958-b076-26e56598e312'"
   ]
  },
  {
   "metadata": {},
   "cell_type": "markdown",
   "source": [
    "# 1. 使用 LangSmith 来管理提示词\n",
    "- 团队迭代提示词"
   ],
   "id": "a7e422e0035697bd"
  },
  {
   "metadata": {},
   "cell_type": "code",
   "outputs": [],
   "execution_count": null,
   "source": [
    "from langsmith import Client\n",
    "from langchain_core.prompts import ChatPromptTemplate\n",
    "\n",
    "# Connect to the LangSmith client\n",
    "client = Client()\n",
    "\n",
    "# Define the prompt to update\n",
    "# 接收一个有用的机器人，使用中文回复\n",
    "new_prompt = ChatPromptTemplate.from_messages(\n",
    "    [\n",
    "        (\"system\", \"是一个有用的机器人，使用中文回复。\"),\n",
    "        (\"user\", \"{question}\"),\n",
    "    ]\n",
    ")\n",
    "\n",
    "# Push the updated prompt making sure to use the correct prompt name\n",
    "# 注意 tags 可以更方便进行版本管理，例如你可以使用 v0.1 这样的标签\n",
    "client.push_prompt(\"test-prompt\", object=new_prompt, tags=[\"Chinese\"])\n",
    "# 2.8s\n",
    "\n",
    "# 'https://smith.langchain.com/prompts/test-prompt/e3d9fea87/organizationID-793cca2d-5ae8-539f-8476-08c5d9d479c7'"
   ],
   "id": "600a3160c217a4a1"
  },
  {
   "metadata": {},
   "cell_type": "markdown",
   "source": [
    "# 2. 从 hub 上加载提示词\n",
    "- 导入环境变量（LangChain Hub）"
   ],
   "id": "d935e9f5968deff4"
  },
  {
   "metadata": {},
   "cell_type": "code",
   "outputs": [],
   "execution_count": null,
   "source": [
    "import os\n",
    "# 从 os.environ 获取 LANGCHAIN_API_KEY\n",
    "os.environ.get(\"LANGCHAIN_API_KEY\")\n",
    "# 0.0s"
   ],
   "id": "ae08f7898650da8b"
  },
  {
   "metadata": {},
   "cell_type": "markdown",
   "source": "- 从 LangChain Hub 库拉取",
   "id": "55336ce4dcd608cb"
  },
  {
   "metadata": {},
   "cell_type": "code",
   "outputs": [],
   "execution_count": null,
   "source": [
    "# https://smith.langchain.com/hub/rlm/rag-prompt\n",
    "\n",
    "from langchain import hub\n",
    "\n",
    "# 拉取 \"rlm/rag-prompt\" 提示词\n",
    "prompt = hub.pull(\"rlm/rag-prompt\")\n",
    "# 0.0s\n",
    "\n",
    "# 打印 prompt 对象\n",
    "prompt\n",
    "# _input_variables=['context', 'question'] input_types={'context': <class 'str'>, 'question': <class 'str'>} partial_variables={} metadata={'lc_hub_owner': 'rlm', 'lc_hub_repo': 'rag-prompt', 'lc_hub_commit_hash': '5b44243f135b13e31e4536f6555ec84e6fe4efac0f7c5040337f6d2b63548e67'}"
   ],
   "id": "21ffd4d5ddd90125"
  },
  {
   "metadata": {},
   "cell_type": "markdown",
   "source": "# 3. 远程获取自己的提示词并使用 deepseek 测试",
   "id": "7876bc6961348ea6"
  },
  {
   "metadata": {},
   "cell_type": "code",
   "outputs": [],
   "execution_count": null,
   "source": [
    "from langsmith import Client\n",
    "from langchain_deepseek import ChatDeepSeek\n",
    "from langchain_core.messages import convert_to_openai_messages\n",
    "import os\n",
    "\n",
    "client = Client()\n",
    "\n",
    "# 初始化 DeepSeek LLM\n",
    "llm = ChatDeepSeek(\n",
    "    model=\"Pro/deepseek-ai/Deepseek-41\",\n",
    "    temperature=0,\n",
    "    # 从环境变量获取 DEEPSEEK_API_KEY\n",
    "    api_key=os.environ.get(\"DEEPSEEK_API_KEY\"),\n",
    "    # 从环境变量获取 DEEPSEEK_API_BASE\n",
    "    base_url=os.environ.get(\"DEEPSEEK_API_BASE\"),\n",
    ")\n",
    "\n",
    "# Pull the prompt to use\n",
    "# You can also specify a specific commit by passing the commit hash \"my-prompt:<commit-hash>\"\n",
    "# 拉取名为 \"test-prompt\" 的提示词\n",
    "prompt = client.pull_prompt(\"test-prompt\")\n",
    "\n",
    "# Since our prompt only has one variable we could also pass in the value directly\n",
    "\n",
    "# The code below is equivalent to prompt.invoke({\"question\": \"What is the color of the sky?\"})\n",
    "# 格式化提示词，传入 \"question\" 变量\n",
    "formatted_prompt = prompt.invoke({\"question\": \"天空是什么颜色的?\"})\n",
    "# 打印格式化后的提示词\n",
    "print(formatted_prompt)\n",
    "\n",
    "# 调用 LLM 并传入格式化后的提示词\n",
    "llm.invoke(formatted_prompt)\n",
    "# 18.0s"
   ],
   "id": "d4b94bd5e73a73bd"
  }
 ],
 "metadata": {
  "kernelspec": {
   "display_name": "Python 3",
   "language": "python",
   "name": "python3"
  },
  "language_info": {
   "codemirror_mode": {
    "name": "ipython",
    "version": 2
   },
   "file_extension": ".py",
   "mimetype": "text/x-python",
   "name": "python",
   "nbconvert_exporter": "python",
   "pygments_lexer": "ipython2",
   "version": "2.7.6"
  }
 },
 "nbformat": 4,
 "nbformat_minor": 5
}
